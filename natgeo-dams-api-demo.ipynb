{
 "cells": [
  {
   "cell_type": "markdown",
   "metadata": {},
   "source": [
    "# DEMO For NatGeo Microsoft AI4Earth Natural Capital Project API\n",
    "# NOTE: this project was designed to detect all dams globally and not necessarily at a per-image level as the API below demos. We suggest users visit https://github.com/natcap/natgeo-dams for a high performace tuned pipeline demo.\n",
    "# Install the Docker image:\n",
    "docker pull natcap/1.0-natgeo-dams:1\n",
    "docker run --rm -it -p 8080:8080 -v `pwd`:/usr/local/images 1.0-natgeo-dams:1\n",
    "\n",
    "# The API has only one entry point:\n",
    "    # api/v1/process_image\n",
    "    # and takes only a content type of `image/png`\n",
    "    # If the API returns success the content will be a JSON object with a list of bounding boxes and scores for detect dams in pixel coordinates:\n",
    "        [[[xmin0, ymin0, xmax0, ymax0], score0],  [[xmin1, ymin1, xmax1, ymax1], score1], ...]"
   ]
  },
  {
   "cell_type": "code",
   "execution_count": null,
   "metadata": {},
   "outputs": [],
   "source": [
    "import os\n",
    "\n",
    "# Demo image included in this repository\n",
    "image_path = '2447c103ccf346e28dd3c97c5b73584e.png'\n",
    "\n",
    "result = requests.post(\n",
    "    'http://localhost:8080/api/v1/process_image',\n",
    "    data=open(args.image_path, 'rb').read(),\n",
    "    headers={'Content-Type': 'image/png'})\n",
    "if result:\n",
    "    print('list of bounding boxes in pixel space and scores:')\n",
    "    print(result.json())\n"
   ]
  }
 ],
 "metadata": {
  "kernelspec": {
   "display_name": "Python 3",
   "language": "python",
   "name": "python3"
  },
  "language_info": {
   "codemirror_mode": {
    "name": "ipython",
    "version": 3
   },
   "file_extension": ".py",
   "mimetype": "text/x-python",
   "name": "python",
   "nbconvert_exporter": "python",
   "pygments_lexer": "ipython3",
   "version": "3.8.2"
  }
 },
 "nbformat": 4,
 "nbformat_minor": 2
}
